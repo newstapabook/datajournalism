{
  "nbformat": 4,
  "nbformat_minor": 0,
  "metadata": {
    "colab": {
      "name": "시각화실습1_막대차트",
      "provenance": []
    },
    "kernelspec": {
      "name": "python3",
      "display_name": "Python 3"
    },
    "language_info": {
      "name": "python"
    }
  },
  "cells": [
    {
      "cell_type": "code",
      "metadata": {
        "id": "t8Kd-NJ5WxQz"
      },
      "source": [
        "# 데이터를 다루는 라이브러리 - pandas, numpy\n",
        "# 그래프 그리는 라이브러리 - matplotlib.pyplot\n",
        "\n",
        "# import 라이브러리 as 별명\n",
        "import pandas as pd\n",
        "import numpy as np\n",
        "import matplotlib.pyplot as plt"
      ],
      "execution_count": null,
      "outputs": []
    },
    {
      "cell_type": "code",
      "metadata": {
        "id": "TYcwa9umWyhT"
      },
      "source": [
        "# 데이터 불러오기\n",
        "data = pd.read_csv()"
      ],
      "execution_count": null,
      "outputs": []
    },
    {
      "cell_type": "code",
      "metadata": {
        "id": "ahX-lMMrW4ml"
      },
      "source": [
        "# 상위 5개 행 미리 보기\n",
        "data.head()"
      ],
      "execution_count": null,
      "outputs": []
    },
    {
      "cell_type": "code",
      "metadata": {
        "id": "cC9YPcQFbKZC"
      },
      "source": [
        "# '기부금액(원)'에서 '(원)'을 빼주는 코드\n",
        "# groupby 함수 실행할 때 에러가 없도록\n",
        "data.columns = data.columns.str.replace('\\(원\\)', '')"
      ],
      "execution_count": null,
      "outputs": []
    },
    {
      "cell_type": "code",
      "metadata": {
        "id": "YvZq4VRcXPOB"
      },
      "source": [
        "# 소속정당을 기준으로 - 기부금액의 총합(sum) 계산\n",
        "data_bar\n",
        "\n",
        "# 데이터 전체 확인\n",
        "data_bar"
      ],
      "execution_count": null,
      "outputs": []
    },
    {
      "cell_type": "code",
      "metadata": {
        "id": "mPy2hjqVXf_w"
      },
      "source": [
        "#데이터 매칭을 위한 배열 생성\n",
        "y_pos = np.arange(len(data_bar))\n",
        "y_pos"
      ],
      "execution_count": null,
      "outputs": []
    },
    {
      "cell_type": "code",
      "metadata": {
        "id": "03YkqSigXhQ8"
      },
      "source": [
        "# 수평 막대 차트 그리기 \n",
        "# barh : 수평 막대 그리는 함수 / bar : 수직 막대 차트\n",
        "plt.barh( )\n",
        "plt.yticks( )\n",
        "\n",
        "# 그래프 보여주기 \n",
        "plt.show()"
      ],
      "execution_count": null,
      "outputs": []
    },
    {
      "cell_type": "code",
      "metadata": {
        "id": "6ou7FLIkZVKC"
      },
      "source": [
        "# 정당명을 영어로 바꾸는 코드\n",
        "data_bar['소속정당'] = data_bar['소속정당'].replace(['국민의힘'],'people_power_party')\n",
        "data_bar['소속정당'] = data_bar['소속정당'].replace(['국민의당'],'people_party')\n",
        "data_bar['소속정당'] = data_bar['소속정당'].replace(['더불어민주당'],'the_minjoo')\n",
        "data_bar['소속정당'] = data_bar['소속정당'].replace(['정의당'],'justice_party')\n",
        "data_bar['소속정당'] = data_bar['소속정당'].replace(['미래통합당'],'united_future_party')\n",
        "data_bar['소속정당'] = data_bar['소속정당'].replace(['열린민주당'],'open_democratic_party')\n",
        "data_bar['소속정당'] = data_bar['소속정당'].replace(['시대전환'],'transition_korea')\n",
        "data_bar['소속정당'] = data_bar['소속정당'].replace(['기본소득당'],'basic_income_party')\n",
        "data_bar['소속정당'] = data_bar['소속정당'].replace(['무소속'],'independent')\n"
      ],
      "execution_count": null,
      "outputs": []
    },
    {
      "cell_type": "code",
      "metadata": {
        "id": "EBPySlZ-ZiE6"
      },
      "source": [
        "# 다시 차트를 그리는 코드\n",
        "rects = plt.barh(y_pos, data_bar['기부금액'])\n",
        "plt.yticks(y_pos, data_bar['소속정당'])\n",
        "\n",
        "# 그래프 보여주기 \n",
        "plt.show()\n"
      ],
      "execution_count": null,
      "outputs": []
    },
    {
      "cell_type": "code",
      "metadata": {
        "id": "QyFJZWUlZo9x"
      },
      "source": [
        "# 오름차순으로 정렬\n",
        "data_bar = data_bar.sort_values(by= , ascending= )\n",
        "# ascending=False는 내림차순"
      ],
      "execution_count": null,
      "outputs": []
    },
    {
      "cell_type": "code",
      "metadata": {
        "id": "lQFceXbWZq0n"
      },
      "source": [
        "#스타일 추가\n",
        "plt.style.use('fivethirtyeight')\n",
        "\n",
        "# 그래프 스타일 템플릿 사용하기 style use\n",
        "## https://matplotlib.org/3.1.1/gallery/style_sheets/style_sheets_reference.html \n",
        "\n",
        "plt.barh(y_pos, data_bar['기부금액'])\n",
        "plt.yticks(y_pos, data_bar['소속정당'])\n",
        "\n",
        "plt.show()"
      ],
      "execution_count": null,
      "outputs": []
    }
  ]
}